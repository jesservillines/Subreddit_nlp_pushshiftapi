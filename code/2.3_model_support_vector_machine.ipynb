{
 "cells": [
  {
   "cell_type": "markdown",
   "metadata": {},
   "source": [
    "# Imports"
   ]
  },
  {
   "cell_type": "code",
   "execution_count": 1,
   "metadata": {},
   "outputs": [],
   "source": [
    "import numpy as np\n",
    "import requests\n",
    "import pandas as pd\n",
    "import matplotlib.pyplot as plt\n",
    "import time\n",
    "import sys\n",
    "\n",
    "from sklearn.model_selection import train_test_split, GridSearchCV\n",
    "from sklearn.pipeline import Pipeline, FeatureUnion\n",
    "from sklearn.preprocessing import StandardScaler, FunctionTransformer\n",
    "from sklearn.naive_bayes import MultinomialNB\n",
    "from sklearn.linear_model import LogisticRegression\n",
    "from sklearn.metrics import confusion_matrix, plot_confusion_matrix, accuracy_score, classification_report,roc_curve, auc\n",
    "from nltk import FreqDist, pos_tag\n",
    "from nltk.tokenize import word_tokenize\n",
    "from collections import Counter\n",
    "\n",
    "from sklearn.ensemble import GradientBoostingClassifier, AdaBoostClassifier, VotingClassifier, RandomForestClassifier, BaggingClassifier\n",
    "from sklearn.tree import DecisionTreeClassifier\n",
    "from sklearn.svm import SVC\n",
    "\n",
    "# Import CountVectorizer and TFIDFVectorizer from feature_extraction.text.\n",
    "from sklearn.feature_extraction.text import CountVectorizer, TfidfVectorizer\n",
    "\n",
    "from nltk.tokenize import sent_tokenize, word_tokenize, RegexpTokenizer\n",
    "from nltk.stem import WordNetLemmatizer\n",
    "from nltk.stem.porter import PorterStemmer\n",
    "from nltk.corpus import stopwords\n",
    "from nltk.sentiment.vader import SentimentIntensityAnalyzer\n",
    "from nltk import FreqDist, pos_tag\n",
    "import re"
   ]
  },
  {
   "cell_type": "markdown",
   "metadata": {},
   "source": [
    "# Model"
   ]
  },
  {
   "cell_type": "code",
   "execution_count": 2,
   "metadata": {},
   "outputs": [],
   "source": [
    "#read in cleaned data file\n",
    "model_df = pd.read_csv('../data/model_df.csv')"
   ]
  },
  {
   "cell_type": "code",
   "execution_count": 3,
   "metadata": {},
   "outputs": [],
   "source": [
    "#X = reddit_df.drop(columns = ['subreddit', 'selftext', 'score','created_utc'])\n",
    "X_text = model_df[['all_text', 'sentiment']]\n",
    "y = model_df['subreddit']\n",
    "\n",
    "X_train, X_test, y_train, y_test = train_test_split(X_text,\n",
    "                                                    y,\n",
    "                                                    test_size=0.2,\n",
    "                                                    stratify = y,\n",
    "                                                    random_state=42)"
   ]
  },
  {
   "cell_type": "code",
   "execution_count": 4,
   "metadata": {},
   "outputs": [
    {
     "name": "stdout",
     "output_type": "stream",
     "text": [
      "4008\n",
      "16028\n"
     ]
    }
   ],
   "source": [
    "print(len(X_test))\n",
    "print(len(X_train))"
   ]
  },
  {
   "cell_type": "markdown",
   "metadata": {},
   "source": [
    "# Baseline accuracy is 50%"
   ]
  },
  {
   "cell_type": "code",
   "execution_count": 5,
   "metadata": {},
   "outputs": [
    {
     "data": {
      "text/plain": [
       "1    0.5\n",
       "0    0.5\n",
       "Name: subreddit, dtype: float64"
      ]
     },
     "execution_count": 5,
     "metadata": {},
     "output_type": "execute_result"
    }
   ],
   "source": [
    "# This is the baseline --> accuracy\n",
    "y.value_counts(normalize=True)"
   ]
  },
  {
   "cell_type": "code",
   "execution_count": 6,
   "metadata": {},
   "outputs": [],
   "source": [
    "# create functions to return needed columns\n",
    "get_text_data = FunctionTransformer(lambda x: x['all_text'], validate = False)\n",
    "get_numeric_data = FunctionTransformer(lambda x: x[['sentiment']], validate = False)"
   ]
  },
  {
   "cell_type": "code",
   "execution_count": 8,
   "metadata": {},
   "outputs": [
    {
     "name": "stdout",
     "output_type": "stream",
     "text": [
      "Fitting 5 folds for each of 15 candidates, totalling 75 fits\n",
      "[CV] svc__C=0.001, svc__kernel=linear ................................\n"
     ]
    },
    {
     "name": "stderr",
     "output_type": "stream",
     "text": [
      "[Parallel(n_jobs=1)]: Using backend SequentialBackend with 1 concurrent workers.\n"
     ]
    },
    {
     "name": "stdout",
     "output_type": "stream",
     "text": [
      "[CV] ................. svc__C=0.001, svc__kernel=linear, total=  56.8s\n",
      "[CV] svc__C=0.001, svc__kernel=linear ................................\n"
     ]
    },
    {
     "name": "stderr",
     "output_type": "stream",
     "text": [
      "[Parallel(n_jobs=1)]: Done   1 out of   1 | elapsed:   56.7s remaining:    0.0s\n"
     ]
    },
    {
     "name": "stdout",
     "output_type": "stream",
     "text": [
      "[CV] ................. svc__C=0.001, svc__kernel=linear, total=  56.9s\n",
      "[CV] svc__C=0.001, svc__kernel=linear ................................\n",
      "[CV] ................. svc__C=0.001, svc__kernel=linear, total= 1.0min\n",
      "[CV] svc__C=0.001, svc__kernel=linear ................................\n",
      "[CV] ................. svc__C=0.001, svc__kernel=linear, total=  56.6s\n",
      "[CV] svc__C=0.001, svc__kernel=linear ................................\n",
      "[CV] ................. svc__C=0.001, svc__kernel=linear, total=  59.1s\n",
      "[CV] svc__C=0.001, svc__kernel=poly ..................................\n",
      "[CV] ................... svc__C=0.001, svc__kernel=poly, total= 1.3min\n",
      "[CV] svc__C=0.001, svc__kernel=poly ..................................\n",
      "[CV] ................... svc__C=0.001, svc__kernel=poly, total= 1.2min\n",
      "[CV] svc__C=0.001, svc__kernel=poly ..................................\n",
      "[CV] ................... svc__C=0.001, svc__kernel=poly, total= 1.2min\n",
      "[CV] svc__C=0.001, svc__kernel=poly ..................................\n",
      "[CV] ................... svc__C=0.001, svc__kernel=poly, total= 1.2min\n",
      "[CV] svc__C=0.001, svc__kernel=poly ..................................\n",
      "[CV] ................... svc__C=0.001, svc__kernel=poly, total= 1.2min\n",
      "[CV] svc__C=0.001, svc__kernel=rbf ...................................\n",
      "[CV] .................... svc__C=0.001, svc__kernel=rbf, total= 1.3min\n",
      "[CV] svc__C=0.001, svc__kernel=rbf ...................................\n",
      "[CV] .................... svc__C=0.001, svc__kernel=rbf, total= 1.2min\n",
      "[CV] svc__C=0.001, svc__kernel=rbf ...................................\n",
      "[CV] .................... svc__C=0.001, svc__kernel=rbf, total= 1.3min\n",
      "[CV] svc__C=0.001, svc__kernel=rbf ...................................\n",
      "[CV] .................... svc__C=0.001, svc__kernel=rbf, total= 1.2min\n",
      "[CV] svc__C=0.001, svc__kernel=rbf ...................................\n",
      "[CV] .................... svc__C=0.001, svc__kernel=rbf, total= 1.3min\n",
      "[CV] svc__C=0.01, svc__kernel=linear .................................\n",
      "[CV] .................. svc__C=0.01, svc__kernel=linear, total=  52.0s\n",
      "[CV] svc__C=0.01, svc__kernel=linear .................................\n",
      "[CV] .................. svc__C=0.01, svc__kernel=linear, total=  53.8s\n",
      "[CV] svc__C=0.01, svc__kernel=linear .................................\n",
      "[CV] .................. svc__C=0.01, svc__kernel=linear, total=  52.6s\n",
      "[CV] svc__C=0.01, svc__kernel=linear .................................\n",
      "[CV] .................. svc__C=0.01, svc__kernel=linear, total=  52.6s\n",
      "[CV] svc__C=0.01, svc__kernel=linear .................................\n",
      "[CV] .................. svc__C=0.01, svc__kernel=linear, total=  53.4s\n",
      "[CV] svc__C=0.01, svc__kernel=poly ...................................\n",
      "[CV] .................... svc__C=0.01, svc__kernel=poly, total= 1.2min\n",
      "[CV] svc__C=0.01, svc__kernel=poly ...................................\n",
      "[CV] .................... svc__C=0.01, svc__kernel=poly, total= 1.2min\n",
      "[CV] svc__C=0.01, svc__kernel=poly ...................................\n",
      "[CV] .................... svc__C=0.01, svc__kernel=poly, total= 1.2min\n",
      "[CV] svc__C=0.01, svc__kernel=poly ...................................\n",
      "[CV] .................... svc__C=0.01, svc__kernel=poly, total= 1.2min\n",
      "[CV] svc__C=0.01, svc__kernel=poly ...................................\n",
      "[CV] .................... svc__C=0.01, svc__kernel=poly, total= 1.2min\n",
      "[CV] svc__C=0.01, svc__kernel=rbf ....................................\n",
      "[CV] ..................... svc__C=0.01, svc__kernel=rbf, total= 1.2min\n",
      "[CV] svc__C=0.01, svc__kernel=rbf ....................................\n",
      "[CV] ..................... svc__C=0.01, svc__kernel=rbf, total= 1.3min\n",
      "[CV] svc__C=0.01, svc__kernel=rbf ....................................\n",
      "[CV] ..................... svc__C=0.01, svc__kernel=rbf, total= 1.2min\n",
      "[CV] svc__C=0.01, svc__kernel=rbf ....................................\n",
      "[CV] ..................... svc__C=0.01, svc__kernel=rbf, total= 1.2min\n",
      "[CV] svc__C=0.01, svc__kernel=rbf ....................................\n",
      "[CV] ..................... svc__C=0.01, svc__kernel=rbf, total= 1.2min\n",
      "[CV] svc__C=0.1, svc__kernel=linear ..................................\n",
      "[CV] ................... svc__C=0.1, svc__kernel=linear, total= 1.2min\n",
      "[CV] svc__C=0.1, svc__kernel=linear ..................................\n",
      "[CV] ................... svc__C=0.1, svc__kernel=linear, total= 1.2min\n",
      "[CV] svc__C=0.1, svc__kernel=linear ..................................\n",
      "[CV] ................... svc__C=0.1, svc__kernel=linear, total= 1.2min\n",
      "[CV] svc__C=0.1, svc__kernel=linear ..................................\n",
      "[CV] ................... svc__C=0.1, svc__kernel=linear, total= 1.2min\n",
      "[CV] svc__C=0.1, svc__kernel=linear ..................................\n",
      "[CV] ................... svc__C=0.1, svc__kernel=linear, total= 1.3min\n",
      "[CV] svc__C=0.1, svc__kernel=poly ....................................\n",
      "[CV] ..................... svc__C=0.1, svc__kernel=poly, total= 1.2min\n",
      "[CV] svc__C=0.1, svc__kernel=poly ....................................\n",
      "[CV] ..................... svc__C=0.1, svc__kernel=poly, total= 1.2min\n",
      "[CV] svc__C=0.1, svc__kernel=poly ....................................\n",
      "[CV] ..................... svc__C=0.1, svc__kernel=poly, total= 1.3min\n",
      "[CV] svc__C=0.1, svc__kernel=poly ....................................\n",
      "[CV] ..................... svc__C=0.1, svc__kernel=poly, total= 1.2min\n",
      "[CV] svc__C=0.1, svc__kernel=poly ....................................\n",
      "[CV] ..................... svc__C=0.1, svc__kernel=poly, total= 1.2min\n",
      "[CV] svc__C=0.1, svc__kernel=rbf .....................................\n",
      "[CV] ...................... svc__C=0.1, svc__kernel=rbf, total= 1.1min\n",
      "[CV] svc__C=0.1, svc__kernel=rbf .....................................\n",
      "[CV] ...................... svc__C=0.1, svc__kernel=rbf, total= 1.2min\n",
      "[CV] svc__C=0.1, svc__kernel=rbf .....................................\n",
      "[CV] ...................... svc__C=0.1, svc__kernel=rbf, total= 1.1min\n",
      "[CV] svc__C=0.1, svc__kernel=rbf .....................................\n",
      "[CV] ...................... svc__C=0.1, svc__kernel=rbf, total= 1.2min\n",
      "[CV] svc__C=0.1, svc__kernel=rbf .....................................\n",
      "[CV] ...................... svc__C=0.1, svc__kernel=rbf, total= 1.2min\n",
      "[CV] svc__C=1, svc__kernel=linear ....................................\n",
      "[CV] ..................... svc__C=1, svc__kernel=linear, total= 3.6min\n",
      "[CV] svc__C=1, svc__kernel=linear ....................................\n",
      "[CV] ..................... svc__C=1, svc__kernel=linear, total= 3.6min\n",
      "[CV] svc__C=1, svc__kernel=linear ....................................\n",
      "[CV] ..................... svc__C=1, svc__kernel=linear, total= 3.5min\n",
      "[CV] svc__C=1, svc__kernel=linear ....................................\n",
      "[CV] ..................... svc__C=1, svc__kernel=linear, total= 4.6min\n",
      "[CV] svc__C=1, svc__kernel=linear ....................................\n",
      "[CV] ..................... svc__C=1, svc__kernel=linear, total= 4.6min\n",
      "[CV] svc__C=1, svc__kernel=poly ......................................\n",
      "[CV] ....................... svc__C=1, svc__kernel=poly, total= 1.5min\n",
      "[CV] svc__C=1, svc__kernel=poly ......................................\n",
      "[CV] ....................... svc__C=1, svc__kernel=poly, total= 1.5min\n",
      "[CV] svc__C=1, svc__kernel=poly ......................................\n",
      "[CV] ....................... svc__C=1, svc__kernel=poly, total= 1.5min\n",
      "[CV] svc__C=1, svc__kernel=poly ......................................\n",
      "[CV] ....................... svc__C=1, svc__kernel=poly, total= 1.5min\n",
      "[CV] svc__C=1, svc__kernel=poly ......................................\n",
      "[CV] ....................... svc__C=1, svc__kernel=poly, total= 1.5min\n",
      "[CV] svc__C=1, svc__kernel=rbf .......................................\n",
      "[CV] ........................ svc__C=1, svc__kernel=rbf, total= 1.3min\n",
      "[CV] svc__C=1, svc__kernel=rbf .......................................\n",
      "[CV] ........................ svc__C=1, svc__kernel=rbf, total= 1.3min\n",
      "[CV] svc__C=1, svc__kernel=rbf .......................................\n",
      "[CV] ........................ svc__C=1, svc__kernel=rbf, total= 1.4min\n",
      "[CV] svc__C=1, svc__kernel=rbf .......................................\n",
      "[CV] ........................ svc__C=1, svc__kernel=rbf, total= 1.4min\n",
      "[CV] svc__C=1, svc__kernel=rbf .......................................\n",
      "[CV] ........................ svc__C=1, svc__kernel=rbf, total= 1.5min\n",
      "[CV] svc__C=10, svc__kernel=linear ...................................\n",
      "[CV] .................... svc__C=10, svc__kernel=linear, total=11.7min\n",
      "[CV] svc__C=10, svc__kernel=linear ...................................\n",
      "[CV] .................... svc__C=10, svc__kernel=linear, total=10.6min\n",
      "[CV] svc__C=10, svc__kernel=linear ...................................\n",
      "[CV] .................... svc__C=10, svc__kernel=linear, total= 8.0min\n",
      "[CV] svc__C=10, svc__kernel=linear ...................................\n",
      "[CV] .................... svc__C=10, svc__kernel=linear, total= 8.3min\n",
      "[CV] svc__C=10, svc__kernel=linear ...................................\n",
      "[CV] .................... svc__C=10, svc__kernel=linear, total= 8.7min\n",
      "[CV] svc__C=10, svc__kernel=poly .....................................\n",
      "[CV] ...................... svc__C=10, svc__kernel=poly, total= 1.3min\n",
      "[CV] svc__C=10, svc__kernel=poly .....................................\n",
      "[CV] ...................... svc__C=10, svc__kernel=poly, total= 1.3min\n",
      "[CV] svc__C=10, svc__kernel=poly .....................................\n",
      "[CV] ...................... svc__C=10, svc__kernel=poly, total= 1.2min\n",
      "[CV] svc__C=10, svc__kernel=poly .....................................\n",
      "[CV] ...................... svc__C=10, svc__kernel=poly, total= 1.3min\n",
      "[CV] svc__C=10, svc__kernel=poly .....................................\n",
      "[CV] ...................... svc__C=10, svc__kernel=poly, total= 1.2min\n",
      "[CV] svc__C=10, svc__kernel=rbf ......................................\n",
      "[CV] ....................... svc__C=10, svc__kernel=rbf, total= 1.1min\n",
      "[CV] svc__C=10, svc__kernel=rbf ......................................\n",
      "[CV] ....................... svc__C=10, svc__kernel=rbf, total= 1.1min\n",
      "[CV] svc__C=10, svc__kernel=rbf ......................................\n",
      "[CV] ....................... svc__C=10, svc__kernel=rbf, total= 1.1min\n",
      "[CV] svc__C=10, svc__kernel=rbf ......................................\n",
      "[CV] ....................... svc__C=10, svc__kernel=rbf, total= 1.3min\n",
      "[CV] svc__C=10, svc__kernel=rbf ......................................\n",
      "[CV] ....................... svc__C=10, svc__kernel=rbf, total= 1.2min\n"
     ]
    },
    {
     "name": "stderr",
     "output_type": "stream",
     "text": [
      "[Parallel(n_jobs=1)]: Done  75 out of  75 | elapsed: 145.7min finished\n"
     ]
    },
    {
     "data": {
      "text/plain": [
       "0.8471425006239082"
      ]
     },
     "execution_count": 8,
     "metadata": {},
     "output_type": "execute_result"
    }
   ],
   "source": [
    "pipe = Pipeline([\n",
    "    ('features', FeatureUnion([\n",
    "            ('numeric_features', Pipeline([\n",
    "                ('selector', get_numeric_data),\n",
    "                ('ss', StandardScaler())\n",
    "            ])),\n",
    "            ('text_features', Pipeline([\n",
    "                ('selector', get_text_data),\n",
    "                ('cvec', CountVectorizer(stop_words = 'english', max_features = 10000, lowercase = True))\n",
    "            ]))\n",
    "    ])),\n",
    "    ('svc', SVC())\n",
    "])\n",
    "\n",
    "params = {'svc__kernel': ['linear', 'poly', 'rbf'],\n",
    " 'svc__C': [0.001, 0.01, 0.1, 1, 10],\n",
    "            }\n",
    "\n",
    "gs = GridSearchCV(pipe, params, cv=5,verbose=2)\n",
    "\n",
    "gs.fit(X_train, y_train)\n",
    "gs.score(X_train, y_train)"
   ]
  },
  {
   "cell_type": "code",
   "execution_count": 9,
   "metadata": {},
   "outputs": [
    {
     "data": {
      "text/plain": [
       "0.7048403193612774"
      ]
     },
     "execution_count": 9,
     "metadata": {},
     "output_type": "execute_result"
    }
   ],
   "source": [
    "gs.score(X_test, y_test)"
   ]
  },
  {
   "cell_type": "code",
   "execution_count": 10,
   "metadata": {},
   "outputs": [],
   "source": [
    "def nice_conmat(y_test, preds, classes):\n",
    "\n",
    "    conmat = confusion_matrix(y_test, preds)\n",
    "    print(f'Accuracy Score: {accuracy_score(y_test, preds)}')\n",
    "    return pd.DataFrame(conmat, columns=['Predicted ' +class_ for class_ in classes], \\\n",
    "                index=['Actual '+ class_ for class_ in classes])"
   ]
  },
  {
   "cell_type": "code",
   "execution_count": 11,
   "metadata": {},
   "outputs": [
    {
     "name": "stdout",
     "output_type": "stream",
     "text": [
      "Accuracy Score: 0.7048403193612774\n"
     ]
    },
    {
     "data": {
      "text/html": [
       "<div>\n",
       "<style scoped>\n",
       "    .dataframe tbody tr th:only-of-type {\n",
       "        vertical-align: middle;\n",
       "    }\n",
       "\n",
       "    .dataframe tbody tr th {\n",
       "        vertical-align: top;\n",
       "    }\n",
       "\n",
       "    .dataframe thead th {\n",
       "        text-align: right;\n",
       "    }\n",
       "</style>\n",
       "<table border=\"1\" class=\"dataframe\">\n",
       "  <thead>\n",
       "    <tr style=\"text-align: right;\">\n",
       "      <th></th>\n",
       "      <th>Predicted stockmarket</th>\n",
       "      <th>Predicted stocks</th>\n",
       "    </tr>\n",
       "  </thead>\n",
       "  <tbody>\n",
       "    <tr>\n",
       "      <th>Actual stockmarket</th>\n",
       "      <td>1610</td>\n",
       "      <td>394</td>\n",
       "    </tr>\n",
       "    <tr>\n",
       "      <th>Actual stocks</th>\n",
       "      <td>789</td>\n",
       "      <td>1215</td>\n",
       "    </tr>\n",
       "  </tbody>\n",
       "</table>\n",
       "</div>"
      ],
      "text/plain": [
       "                    Predicted stockmarket  Predicted stocks\n",
       "Actual stockmarket                   1610               394\n",
       "Actual stocks                         789              1215"
      ]
     },
     "execution_count": 11,
     "metadata": {},
     "output_type": "execute_result"
    }
   ],
   "source": [
    "# build a function to print out a nice confusion matrix\n",
    "preds = gs.best_estimator_.predict(X_test)\n",
    "\n",
    "nice_conmat(y_test, preds, ['stockmarket', 'stocks'])"
   ]
  },
  {
   "cell_type": "code",
   "execution_count": 12,
   "metadata": {},
   "outputs": [],
   "source": [
    "# Get predictions\n",
    "preds = gs.predict(X_test)\n",
    "# Save confusion matrix values\n",
    "tn, fp, fn, tp = confusion_matrix(y_test, preds).ravel()"
   ]
  },
  {
   "cell_type": "code",
   "execution_count": 13,
   "metadata": {},
   "outputs": [
    {
     "data": {
      "image/png": "[encoded data removed]",
      "text/plain": [
       "<Figure size 432x288 with 2 Axes>"
      ]
     },
     "metadata": {
      "needs_background": "light"
     },
     "output_type": "display_data"
    }
   ],
   "source": [
    "# View confusion matrix\n",
    "plot_confusion_matrix(gs, X_test,y_test,cmap='Blues',values_format='d');"
   ]
  },
  {
   "cell_type": "code",
   "execution_count": 20,
   "metadata": {},
   "outputs": [
    {
     "name": "stdout",
     "output_type": "stream",
     "text": [
      "Precision: 0.76\n",
      "recall: 0.61\n",
      "F1_Score: 0.67\n",
      "Specificity: 0.8\n",
      "ROC AUC: 0.7\n"
     ]
    }
   ],
   "source": [
    "#Precision\n",
    "#Poportion of corrct that are actually correct\n",
    "precision = tp / (tp+fp)\n",
    "print(f'Precision: {round(precision,2)}')\n",
    "\n",
    "#Recall Rate or Sensitivity\n",
    "#Percentage of true positives gotten correct\n",
    "recall = tp/(tp + fn)\n",
    "print(f'recall: {round(recall,2)}')\n",
    "\n",
    "#the mean of precision and recall.\n",
    "#mean of proportion that are predicted actually positive correctly and actually negative correctly\n",
    "f1_score = (2*precision*recall)/ (precision + recall)\n",
    "print(f'F1_Score: {round(f1_score,2)}')\n",
    "\n",
    " # Calculate the specificity TRUE NEG RATE\n",
    "#percentage of true negatives gotten correct\n",
    "specificity = tn/ (tn+fp)\n",
    "print(f'Specificity: {round(specificity,2)}')\n",
    "\n",
    "false_positive_rate, true_positive_rate, thresholds = roc_curve(y_test, preds)\n",
    "roc_auc = auc(false_positive_rate, true_positive_rate)\n",
    "print(f'ROC AUC: {round(roc_auc,2)}')"
   ]
  },
  {
   "cell_type": "code",
   "execution_count": 15,
   "metadata": {},
   "outputs": [
    {
     "name": "stdout",
     "output_type": "stream",
     "text": [
      "Wall time: 49.8 s\n"
     ]
    },
    {
     "data": {
      "text/plain": [
       "<AxesSubplot:>"
      ]
     },
     "execution_count": 15,
     "metadata": {},
     "output_type": "execute_result"
    },
    {
     "data": {
      "image/png": "[encoded data removed]",
      "text/plain": [
       "<Figure size 432x288 with 1 Axes>"
      ]
     },
     "metadata": {
      "needs_background": "light"
     },
     "output_type": "display_data"
    }
   ],
   "source": [
    "%%time\n",
    "\n",
    "# Instantiate the transformer.\n",
    "tvec = TfidfVectorizer(stop_words='english')\n",
    "\n",
    "# convert training data to dataframe\n",
    "X_train_df = pd.DataFrame(tvec.fit_transform(X_train['all_text']).todense(), \n",
    "                          columns=tvec.get_feature_names())\n",
    "# plot top occuring words\n",
    "X_train_df.sum().sort_values(ascending=False).head(10).plot(kind='barh');"
   ]
  },
  {
   "cell_type": "code",
   "execution_count": 16,
   "metadata": {},
   "outputs": [
    {
     "ename": "KeyError",
     "evalue": "'logreg'",
     "output_type": "error",
     "traceback": [
      "\u001b[1;31m---------------------------------------------------------------------------\u001b[0m",
      "\u001b[1;31mKeyError\u001b[0m                                  Traceback (most recent call last)",
      "\u001b[1;32m<ipython-input-16-e9a9114a7196>\u001b[0m in \u001b[0;36m<module>\u001b[1;34m\u001b[0m\n\u001b[0;32m      6\u001b[0m \u001b[1;31m# no changes to our coefficient variable:\u001b[0m\u001b[1;33m\u001b[0m\u001b[1;33m\u001b[0m\u001b[1;33m\u001b[0m\u001b[0m\n\u001b[0;32m      7\u001b[0m \u001b[1;31m# I'm just bringing it down here\u001b[0m\u001b[1;33m\u001b[0m\u001b[1;33m\u001b[0m\u001b[1;33m\u001b[0m\u001b[0m\n\u001b[1;32m----> 8\u001b[1;33m \u001b[0mcoefficients\u001b[0m \u001b[1;33m=\u001b[0m \u001b[0mgs\u001b[0m\u001b[1;33m.\u001b[0m\u001b[0mbest_estimator_\u001b[0m\u001b[1;33m.\u001b[0m\u001b[0mnamed_steps\u001b[0m\u001b[1;33m[\u001b[0m\u001b[1;34m'logreg'\u001b[0m\u001b[1;33m]\u001b[0m\u001b[1;33m.\u001b[0m\u001b[0mcoef_\u001b[0m\u001b[1;33m[\u001b[0m\u001b[1;36m0\u001b[0m\u001b[1;33m]\u001b[0m\u001b[1;33m\u001b[0m\u001b[1;33m\u001b[0m\u001b[0m\n\u001b[0m\u001b[0;32m      9\u001b[0m \u001b[1;33m\u001b[0m\u001b[0m\n\u001b[0;32m     10\u001b[0m coef_df = pd.DataFrame({'features': features, \n",
      "\u001b[1;31mKeyError\u001b[0m: 'logreg'"
     ]
    }
   ],
   "source": [
    "#features variable:\n",
    "\n",
    "features = ['sentiment'] +\\\n",
    "gs.best_estimator_.named_steps['features'].transformer_list[1][1].named_steps['cvec'].get_feature_names()\n",
    "\n",
    "# no changes to our coefficient variable:\n",
    "# I'm just bringing it down here\n",
    "coefficients = gs.best_estimator_.named_steps['logreg'].coef_[0]\n",
    "\n",
    "coef_df = pd.DataFrame({'features': features, \n",
    "              'coef' : coefficients,\n",
    "              'exp_coef': [np.exp(coef) for coef in coefficients] #exponentiated coefficients\n",
    "             })\n",
    "\n",
    "coef_df"
   ]
  },
  {
   "cell_type": "code",
   "execution_count": null,
   "metadata": {},
   "outputs": [],
   "source": [
    "coef_df = coef_df.set_index('features')\n",
    "coef_df = coef_df.sort_values('exp_coef', ascending = False)\n",
    "coef_df.head(10)"
   ]
  },
  {
   "cell_type": "code",
   "execution_count": null,
   "metadata": {},
   "outputs": [],
   "source": [
    "coef_df['exp_coef'].head(10).sort_values()"
   ]
  },
  {
   "cell_type": "code",
   "execution_count": null,
   "metadata": {},
   "outputs": [],
   "source": [
    "weights = coef_df['exp_coef'].head(10).sort_values()\n",
    "labels = weights.index\n",
    "\n",
    "plt.figure(figsize=(20,10))\n",
    "plt.barh(labels, weights, color = 'red')\n",
    "plt.yticks(fontsize=20)\n",
    "plt.xticks(fontsize=20)\n",
    "plt.xlabel('Exp Coef', fontsize=30)\n",
    "plt.title(f'Top 10 Features - Stocks', fontsize=42)\n",
    "plt.tight_layout()"
   ]
  },
  {
   "cell_type": "code",
   "execution_count": null,
   "metadata": {},
   "outputs": [],
   "source": [
    "# 5 longest posts\n",
    "model_df['all_text'].map(lambda x: len(x)).nlargest()"
   ]
  },
  {
   "cell_type": "code",
   "execution_count": null,
   "metadata": {},
   "outputs": [],
   "source": [
    "model_df['all_text'].map(lambda x: len(x)).mean()"
   ]
  },
  {
   "cell_type": "code",
   "execution_count": null,
   "metadata": {},
   "outputs": [],
   "source": [
    "# distribution of post length\n",
    "model_df['all_text'].map(lambda x: len(x)).plot(kind='hist');"
   ]
  },
  {
   "cell_type": "code",
   "execution_count": null,
   "metadata": {},
   "outputs": [],
   "source": []
  },
  {
   "cell_type": "code",
   "execution_count": null,
   "metadata": {},
   "outputs": [],
   "source": []
  },
  {
   "cell_type": "code",
   "execution_count": null,
   "metadata": {},
   "outputs": [],
   "source": []
  },
  {
   "cell_type": "code",
   "execution_count": null,
   "metadata": {},
   "outputs": [],
   "source": []
  }
 ],
 "metadata": {
  "kernelspec": {
   "display_name": "Python 3",
   "language": "python",
   "name": "python3"
  },
  "language_info": {
   "codemirror_mode": {
    "name": "ipython",
    "version": 3
   },
   "file_extension": ".py",
   "mimetype": "text/x-python",
   "name": "python",
   "nbconvert_exporter": "python",
   "pygments_lexer": "ipython3",
   "version": "3.8.5"
  }
 },
 "nbformat": 4,
 "nbformat_minor": 4
}
