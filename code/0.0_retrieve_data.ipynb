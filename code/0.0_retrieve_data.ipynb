{
 "cells": [
  {
   "cell_type": "markdown",
   "metadata": {},
   "source": [
    "# Imports"
   ]
  },
  {
   "cell_type": "code",
   "execution_count": 1,
   "metadata": {},
   "outputs": [],
   "source": [
    "import numpy as np\n",
    "import requests\n",
    "import pandas as pd\n",
    "import time\n",
    "import sys"
   ]
  },
  {
   "cell_type": "markdown",
   "metadata": {},
   "source": [
    "# Collect Data"
   ]
  },
  {
   "cell_type": "markdown",
   "metadata": {},
   "source": [
    "#### There were issues with timeouts so I limited pulls to 1000 at a time and apply a 10 second sleep. 20,000 posts were collected for both subreddits r/Stocks and r/StockMarket for a total of 40,000 posts."
   ]
  },
  {
   "cell_type": "code",
   "execution_count": 2,
   "metadata": {},
   "outputs": [],
   "source": [
    "# url = 'https://api.pushshift.io/reddit/submission/search'\n",
    "# dfs = []\n",
    "# loops = 10\n",
    "# subreddit = 'stocks'\n",
    "# start_time = 1550768921\n",
    "\n",
    "# params = {\n",
    "#     'subreddit': subreddit,\n",
    "#     'size': 100,\n",
    "#     'before': round(start_time)\n",
    "#     }\n",
    "\n",
    "# for i in range(loops):\n",
    "#     current_time = time.time()\n",
    "#     #requesting data\n",
    "#     res = requests.get(url, params)\n",
    "#     print(f'res {i+1} code: ', res.status_code)\n",
    "#     data = res.json()\n",
    "#     posts = data['data']\n",
    "#     post_df = pd.DataFrame(posts)\n",
    "#     dfs.append(post_df)\n",
    "#     #get oldest post time and use as before parameter in next request\n",
    "#     oldest = post_df['created_utc'].min()\n",
    "#     params['before'] = oldest\n",
    "#     time.sleep(10)\n",
    "    \n",
    "# reddit_posts = pd.concat(dfs)\n",
    "\n",
    "# print(reddit_posts.shape)\n",
    "# print(reddit_posts['created_utc'].min())\n",
    "# print(type(reddit_posts))"
   ]
  },
  {
   "cell_type": "code",
   "execution_count": 3,
   "metadata": {},
   "outputs": [],
   "source": [
    "# filename = 'stocks' + '_' + '20' + '.csv' #1550768921 this was the last history point used. After this will be file . \n",
    "# reddit_posts.to_csv('../data/' + filename, index=False)"
   ]
  },
  {
   "cell_type": "code",
   "execution_count": 4,
   "metadata": {},
   "outputs": [],
   "source": [
    "## This was not used in the project, but is here as starter code for the option to expand the project in the future. \n",
    "\n",
    "# comment_url = 'https://api.pushshift.io/reddit/comment/search'\n",
    "\n",
    "# res = requests.get(comment_url, params)\n",
    "# if res.status_code == 200:\n",
    "#     comments_df = pd.DataFrame(res.json()['data'])\n",
    "# else:\n",
    "#     print(res.status_code)\n",
    "\n",
    "# comments_df.head()"
   ]
  },
  {
   "cell_type": "code",
   "execution_count": null,
   "metadata": {},
   "outputs": [],
   "source": []
  }
 ],
 "metadata": {
  "kernelspec": {
   "display_name": "Python 3",
   "language": "python",
   "name": "python3"
  },
  "language_info": {
   "codemirror_mode": {
    "name": "ipython",
    "version": 3
   },
   "file_extension": ".py",
   "mimetype": "text/x-python",
   "name": "python",
   "nbconvert_exporter": "python",
   "pygments_lexer": "ipython3",
   "version": "3.8.5"
  }
 },
 "nbformat": 4,
 "nbformat_minor": 4
}
